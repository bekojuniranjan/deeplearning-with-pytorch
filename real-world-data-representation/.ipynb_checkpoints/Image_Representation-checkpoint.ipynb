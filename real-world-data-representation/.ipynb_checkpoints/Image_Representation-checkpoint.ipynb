{
 "cells": [
  {
   "cell_type": "markdown",
   "id": "bcb53064",
   "metadata": {},
   "source": [
    "## Loading the image File"
   ]
  },
  {
   "cell_type": "code",
   "execution_count": 1,
   "id": "8a5ecf42",
   "metadata": {},
   "outputs": [],
   "source": [
    "import imageio.v2 as imageio"
   ]
  },
  {
   "cell_type": "code",
   "execution_count": 2,
   "id": "6f936d74",
   "metadata": {},
   "outputs": [],
   "source": [
    "img_arr = imageio.imread('licensed-image.jpeg')"
   ]
  },
  {
   "cell_type": "code",
   "execution_count": 3,
   "id": "f1625865",
   "metadata": {},
   "outputs": [
    {
     "data": {
      "text/plain": [
       "(2048, 1538, 3)"
      ]
     },
     "execution_count": 3,
     "metadata": {},
     "output_type": "execute_result"
    }
   ],
   "source": [
    "img_arr.shape"
   ]
  },
  {
   "cell_type": "markdown",
   "id": "18d33a0b",
   "metadata": {},
   "source": [
    "## Changing the layout of image "
   ]
  },
  {
   "cell_type": "code",
   "execution_count": 4,
   "id": "1d7d52ea",
   "metadata": {},
   "outputs": [],
   "source": [
    "# PyTorch modules dealing with image data require tensors to be laid out as channel * height * width"
   ]
  },
  {
   "cell_type": "code",
   "execution_count": 5,
   "id": "7a28b7fa",
   "metadata": {},
   "outputs": [],
   "source": [
    "import torch"
   ]
  },
  {
   "cell_type": "code",
   "execution_count": 6,
   "id": "472c87a8",
   "metadata": {},
   "outputs": [],
   "source": [
    "img = torch.from_numpy(img_arr)"
   ]
  },
  {
   "cell_type": "code",
   "execution_count": 7,
   "id": "148f299f",
   "metadata": {},
   "outputs": [
    {
     "data": {
      "text/plain": [
       "torch.Size([2048, 1538, 3])"
      ]
     },
     "execution_count": 7,
     "metadata": {},
     "output_type": "execute_result"
    }
   ],
   "source": [
    "img.shape"
   ]
  },
  {
   "cell_type": "code",
   "execution_count": 8,
   "id": "32630436",
   "metadata": {},
   "outputs": [],
   "source": [
    "out = img.permute(2, 0 ,1)"
   ]
  },
  {
   "cell_type": "code",
   "execution_count": 9,
   "id": "9dad27c1",
   "metadata": {},
   "outputs": [
    {
     "data": {
      "text/plain": [
       "torch.Size([3, 2048, 1538])"
      ]
     },
     "execution_count": 9,
     "metadata": {},
     "output_type": "execute_result"
    }
   ],
   "source": [
    "out.shape"
   ]
  },
  {
   "cell_type": "code",
   "execution_count": 10,
   "id": "7b20f5c2",
   "metadata": {},
   "outputs": [],
   "source": [
    "# this operation does not make a copy of the tensor data. Instead, \n",
    "#out uses the same underlying storage as img and only plays with \n",
    "#the size and stride information at the tensor level"
   ]
  },
  {
   "cell_type": "code",
   "execution_count": 11,
   "id": "d0d1afb0",
   "metadata": {},
   "outputs": [
    {
     "data": {
      "text/plain": [
       "tensor([[[149, 149, 150,  ...,  54,  51,  49],\n",
       "         [149, 149, 150,  ...,  54,  51,  49],\n",
       "         [146, 147, 149,  ...,  54,  53,  53],\n",
       "         ...,\n",
       "         [169, 153, 125,  ..., 198, 204, 120],\n",
       "         [149, 116,  55,  ..., 176, 173, 124],\n",
       "         [159, 127,  28,  ..., 164, 136, 145]],\n",
       "\n",
       "        [[163, 163, 162,  ...,  87,  85,  86],\n",
       "         [163, 163, 162,  ...,  87,  85,  86],\n",
       "         [162, 163, 163,  ...,  87,  87,  87],\n",
       "         ...,\n",
       "         [192, 175, 139,  ..., 199, 205, 123],\n",
       "         [182, 147,  77,  ..., 180, 178, 131],\n",
       "         [198, 162,  53,  ..., 172, 143, 154]],\n",
       "\n",
       "        [[114, 114, 114,  ..., 130, 130, 130],\n",
       "         [114, 114, 114,  ..., 130, 130, 130],\n",
       "         [113, 114, 114,  ..., 130, 132, 132],\n",
       "         ...,\n",
       "         [ 50,  41,  26,  ...,  63,  85,  10],\n",
       "         [ 39,  17,   0,  ...,  57,  60,  17],\n",
       "         [ 53,  34,   0,  ...,  53,  27,  39]]], dtype=torch.uint8)"
      ]
     },
     "execution_count": 11,
     "metadata": {},
     "output_type": "execute_result"
    }
   ],
   "source": [
    "out"
   ]
  },
  {
   "cell_type": "markdown",
   "id": "ec5bf6fe",
   "metadata": {},
   "source": [
    "## Loding more images and saving as a batch"
   ]
  },
  {
   "cell_type": "code",
   "execution_count": 12,
   "id": "2af3d78f",
   "metadata": {},
   "outputs": [],
   "source": [
    "batch_size = 3\n",
    "img_batch = torch.ones(batch_size, 3, 256, 256)"
   ]
  },
  {
   "cell_type": "code",
   "execution_count": 13,
   "id": "d804bcdd",
   "metadata": {},
   "outputs": [],
   "source": [
    "import os \n",
    "\n",
    "filenames = [img for img in os.listdir() if img.split('.')[-1] in ['jpg','jpeg']]"
   ]
  },
  {
   "cell_type": "code",
   "execution_count": 14,
   "id": "416f5a9e",
   "metadata": {},
   "outputs": [
    {
     "data": {
      "text/plain": [
       "['licensed-image.jpeg',\n",
       " 'maxresdefault.jpg',\n",
       " 'header_essay-final-gettyimages-685469924.jpg']"
      ]
     },
     "execution_count": 14,
     "metadata": {},
     "output_type": "execute_result"
    }
   ],
   "source": [
    "filenames"
   ]
  },
  {
   "cell_type": "code",
   "execution_count": 15,
   "id": "f52065c5",
   "metadata": {},
   "outputs": [],
   "source": [
    "for i, file in enumerate(filenames):\n",
    "    img_arr = imageio.imread(file)\n",
    "    img = torch.from_numpy(img_arr)\n",
    "    img = img.permute(2, 0, 1)\n",
    "    img_batch[i] = img[:3,:256,:256]"
   ]
  },
  {
   "cell_type": "code",
   "execution_count": 16,
   "id": "645d0233",
   "metadata": {},
   "outputs": [
    {
     "data": {
      "text/plain": [
       "torch.Size([3, 3, 256, 256])"
      ]
     },
     "execution_count": 16,
     "metadata": {},
     "output_type": "execute_result"
    }
   ],
   "source": [
    "img_batch.shape"
   ]
  },
  {
   "cell_type": "markdown",
   "id": "c9ed2e57",
   "metadata": {},
   "source": [
    "## Normalizing the data"
   ]
  },
  {
   "cell_type": "code",
   "execution_count": 18,
   "id": "082e2064",
   "metadata": {},
   "outputs": [],
   "source": [
    "img_batch = img_batch.float()"
   ]
  },
  {
   "cell_type": "code",
   "execution_count": 19,
   "id": "52b62898",
   "metadata": {},
   "outputs": [],
   "source": [
    "img_batch/=255.0"
   ]
  },
  {
   "cell_type": "code",
   "execution_count": 20,
   "id": "162cf2e4",
   "metadata": {},
   "outputs": [
    {
     "data": {
      "text/plain": [
       "tensor([[[[0.5843, 0.5843, 0.5882,  ..., 0.5529, 0.5529, 0.5529],\n",
       "          [0.5843, 0.5843, 0.5882,  ..., 0.5529, 0.5529, 0.5529],\n",
       "          [0.5725, 0.5765, 0.5843,  ..., 0.5529, 0.5529, 0.5529],\n",
       "          ...,\n",
       "          [0.3294, 0.3294, 0.3294,  ..., 0.6392, 0.6431, 0.6431],\n",
       "          [0.3216, 0.3216, 0.3294,  ..., 0.6353, 0.6392, 0.6431],\n",
       "          [0.3216, 0.3216, 0.3216,  ..., 0.6353, 0.6392, 0.6431]],\n",
       "\n",
       "         [[0.6392, 0.6392, 0.6353,  ..., 0.3373, 0.3373, 0.3373],\n",
       "          [0.6392, 0.6392, 0.6353,  ..., 0.3373, 0.3373, 0.3373],\n",
       "          [0.6353, 0.6392, 0.6392,  ..., 0.3373, 0.3373, 0.3373],\n",
       "          ...,\n",
       "          [0.4353, 0.4353, 0.4353,  ..., 0.7059, 0.7020, 0.7020],\n",
       "          [0.4392, 0.4392, 0.4353,  ..., 0.7059, 0.7059, 0.7020],\n",
       "          [0.4392, 0.4392, 0.4392,  ..., 0.7059, 0.7020, 0.7020]],\n",
       "\n",
       "         [[0.4471, 0.4471, 0.4471,  ..., 0.4196, 0.4196, 0.4196],\n",
       "          [0.4471, 0.4471, 0.4471,  ..., 0.4196, 0.4196, 0.4196],\n",
       "          [0.4431, 0.4471, 0.4471,  ..., 0.4196, 0.4196, 0.4196],\n",
       "          ...,\n",
       "          [0.6510, 0.6510, 0.6510,  ..., 0.5412, 0.5412, 0.5412],\n",
       "          [0.6510, 0.6510, 0.6510,  ..., 0.5490, 0.5412, 0.5412],\n",
       "          [0.6510, 0.6431, 0.6510,  ..., 0.5490, 0.5490, 0.5412]]],\n",
       "\n",
       "\n",
       "        [[[0.0000, 0.0000, 0.0000,  ..., 0.0000, 0.0000, 0.0000],\n",
       "          [0.0000, 0.0000, 0.0000,  ..., 0.0000, 0.0000, 0.0000],\n",
       "          [0.0000, 0.0000, 0.0000,  ..., 0.0000, 0.0000, 0.0000],\n",
       "          ...,\n",
       "          [0.0000, 0.0000, 0.0000,  ..., 1.0000, 1.0000, 1.0000],\n",
       "          [0.0000, 0.0000, 0.0000,  ..., 1.0000, 1.0000, 1.0000],\n",
       "          [0.0000, 0.0000, 0.0000,  ..., 1.0000, 1.0000, 1.0000]],\n",
       "\n",
       "         [[0.0000, 0.0000, 0.0000,  ..., 0.0000, 0.0000, 0.0000],\n",
       "          [0.0000, 0.0000, 0.0000,  ..., 0.0000, 0.0000, 0.0000],\n",
       "          [0.0000, 0.0000, 0.0000,  ..., 0.0000, 0.0000, 0.0000],\n",
       "          ...,\n",
       "          [0.0000, 0.0000, 0.0000,  ..., 1.0000, 1.0000, 1.0000],\n",
       "          [0.0000, 0.0000, 0.0000,  ..., 1.0000, 1.0000, 1.0000],\n",
       "          [0.0000, 0.0000, 0.0000,  ..., 1.0000, 1.0000, 1.0000]],\n",
       "\n",
       "         [[0.0000, 0.0000, 0.0000,  ..., 0.0000, 0.0000, 0.0000],\n",
       "          [0.0000, 0.0000, 0.0000,  ..., 0.0000, 0.0000, 0.0000],\n",
       "          [0.0000, 0.0000, 0.0000,  ..., 0.0000, 0.0000, 0.0000],\n",
       "          ...,\n",
       "          [0.0000, 0.0000, 0.0000,  ..., 1.0000, 1.0000, 1.0000],\n",
       "          [0.0000, 0.0000, 0.0000,  ..., 1.0000, 1.0000, 1.0000],\n",
       "          [0.0000, 0.0000, 0.0000,  ..., 1.0000, 1.0000, 1.0000]]],\n",
       "\n",
       "\n",
       "        [[[0.0000, 0.0000, 0.0000,  ..., 0.0000, 0.0000, 0.0000],\n",
       "          [0.0000, 0.0000, 0.0000,  ..., 0.0000, 0.0000, 0.0000],\n",
       "          [0.0000, 0.0000, 0.0000,  ..., 0.0000, 0.0000, 0.0000],\n",
       "          ...,\n",
       "          [0.0078, 0.0078, 0.0078,  ..., 0.0353, 0.0353, 0.0353],\n",
       "          [0.0078, 0.0078, 0.0078,  ..., 0.0353, 0.0353, 0.0353],\n",
       "          [0.0078, 0.0078, 0.0078,  ..., 0.0353, 0.0353, 0.0353]],\n",
       "\n",
       "         [[0.0000, 0.0000, 0.0000,  ..., 0.0000, 0.0000, 0.0000],\n",
       "          [0.0000, 0.0000, 0.0000,  ..., 0.0000, 0.0000, 0.0000],\n",
       "          [0.0000, 0.0000, 0.0000,  ..., 0.0000, 0.0000, 0.0000],\n",
       "          ...,\n",
       "          [0.0078, 0.0078, 0.0078,  ..., 0.0392, 0.0392, 0.0392],\n",
       "          [0.0078, 0.0078, 0.0078,  ..., 0.0392, 0.0392, 0.0392],\n",
       "          [0.0078, 0.0078, 0.0078,  ..., 0.0392, 0.0392, 0.0392]],\n",
       "\n",
       "         [[0.0000, 0.0000, 0.0000,  ..., 0.0000, 0.0000, 0.0000],\n",
       "          [0.0000, 0.0000, 0.0000,  ..., 0.0000, 0.0000, 0.0000],\n",
       "          [0.0000, 0.0000, 0.0000,  ..., 0.0000, 0.0000, 0.0000],\n",
       "          ...,\n",
       "          [0.0157, 0.0157, 0.0157,  ..., 0.0549, 0.0549, 0.0549],\n",
       "          [0.0157, 0.0157, 0.0157,  ..., 0.0549, 0.0549, 0.0549],\n",
       "          [0.0157, 0.0157, 0.0157,  ..., 0.0549, 0.0549, 0.0549]]]])"
      ]
     },
     "execution_count": 20,
     "metadata": {},
     "output_type": "execute_result"
    }
   ],
   "source": [
    "img_batch"
   ]
  },
  {
   "cell_type": "code",
   "execution_count": null,
   "id": "4e189114",
   "metadata": {},
   "outputs": [],
   "source": []
  }
 ],
 "metadata": {
  "kernelspec": {
   "display_name": "Python 3 (ipykernel)",
   "language": "python",
   "name": "python3"
  },
  "language_info": {
   "codemirror_mode": {
    "name": "ipython",
    "version": 3
   },
   "file_extension": ".py",
   "mimetype": "text/x-python",
   "name": "python",
   "nbconvert_exporter": "python",
   "pygments_lexer": "ipython3",
   "version": "3.10.6"
  }
 },
 "nbformat": 4,
 "nbformat_minor": 5
}
