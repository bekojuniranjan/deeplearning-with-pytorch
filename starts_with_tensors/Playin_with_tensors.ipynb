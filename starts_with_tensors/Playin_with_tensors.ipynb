{
 "cells": [
  {
   "cell_type": "code",
   "execution_count": 1,
   "id": "2d91e72d",
   "metadata": {},
   "outputs": [],
   "source": [
    "import torch"
   ]
  },
  {
   "cell_type": "code",
   "execution_count": 2,
   "id": "2bedee23",
   "metadata": {},
   "outputs": [
    {
     "data": {
      "text/plain": [
       "tensor([1., 1., 1., 1.])"
      ]
     },
     "execution_count": 2,
     "metadata": {},
     "output_type": "execute_result"
    }
   ],
   "source": [
    "torch.ones(4)"
   ]
  },
  {
   "cell_type": "code",
   "execution_count": 3,
   "id": "82b9f861",
   "metadata": {},
   "outputs": [
    {
     "data": {
      "text/plain": [
       "tensor([[1., 1., 1., 1.],\n",
       "        [1., 1., 1., 1.],\n",
       "        [1., 1., 1., 1.],\n",
       "        [1., 1., 1., 1.]])"
      ]
     },
     "execution_count": 3,
     "metadata": {},
     "output_type": "execute_result"
    }
   ],
   "source": [
    "torch.ones(4,4)"
   ]
  },
  {
   "cell_type": "code",
   "execution_count": 4,
   "id": "d61ff709",
   "metadata": {},
   "outputs": [],
   "source": [
    "a = torch.ones(3)"
   ]
  },
  {
   "cell_type": "code",
   "execution_count": 5,
   "id": "77f4193c",
   "metadata": {},
   "outputs": [
    {
     "data": {
      "text/plain": [
       "tensor([1., 1., 1.])"
      ]
     },
     "execution_count": 5,
     "metadata": {},
     "output_type": "execute_result"
    }
   ],
   "source": [
    "a"
   ]
  },
  {
   "cell_type": "code",
   "execution_count": 6,
   "id": "23a4eef6",
   "metadata": {},
   "outputs": [
    {
     "data": {
      "text/plain": [
       "tensor(1.)"
      ]
     },
     "execution_count": 6,
     "metadata": {},
     "output_type": "execute_result"
    }
   ],
   "source": [
    "a[0]"
   ]
  },
  {
   "cell_type": "code",
   "execution_count": 7,
   "id": "99ea48ad",
   "metadata": {},
   "outputs": [
    {
     "data": {
      "text/plain": [
       "1.0"
      ]
     },
     "execution_count": 7,
     "metadata": {},
     "output_type": "execute_result"
    }
   ],
   "source": [
    "float(a[0])"
   ]
  },
  {
   "cell_type": "code",
   "execution_count": 8,
   "id": "81bb9e59",
   "metadata": {},
   "outputs": [],
   "source": [
    "a[2] = 2.0"
   ]
  },
  {
   "cell_type": "code",
   "execution_count": 9,
   "id": "957e40de",
   "metadata": {},
   "outputs": [
    {
     "data": {
      "text/plain": [
       "tensor([1., 1., 2.])"
      ]
     },
     "execution_count": 9,
     "metadata": {},
     "output_type": "execute_result"
    }
   ],
   "source": [
    "a"
   ]
  },
  {
   "cell_type": "markdown",
   "id": "8ebbcdc0",
   "metadata": {},
   "source": [
    "## The essence of Tensors"
   ]
  },
  {
   "cell_type": "code",
   "execution_count": 10,
   "id": "c795766b",
   "metadata": {},
   "outputs": [],
   "source": [
    "\n",
    "#representing a triangle using three points using tensors\n",
    "\n",
    "points = torch.zeros(6)\n",
    "points[0] = 4.0\n",
    "points[1] = 1.0\n",
    "points[2] = 5.0\n",
    "points[3] = 3.0\n",
    "points[4] = 2.0\n",
    "points[5] = 1.0\n"
   ]
  },
  {
   "cell_type": "code",
   "execution_count": 11,
   "id": "22f3242a",
   "metadata": {},
   "outputs": [
    {
     "data": {
      "text/plain": [
       "tensor([4., 1., 5., 3., 2., 1.])"
      ]
     },
     "execution_count": 11,
     "metadata": {},
     "output_type": "execute_result"
    }
   ],
   "source": [
    "points"
   ]
  },
  {
   "cell_type": "code",
   "execution_count": 12,
   "id": "8fd8a974",
   "metadata": {},
   "outputs": [],
   "source": [
    "points = torch.tensor([4.0, 1.0, 5.0, 3.0, 2.0, 1.0])"
   ]
  },
  {
   "cell_type": "code",
   "execution_count": 13,
   "id": "f9f01d53",
   "metadata": {},
   "outputs": [
    {
     "data": {
      "text/plain": [
       "tensor([4., 1., 5., 3., 2., 1.])"
      ]
     },
     "execution_count": 13,
     "metadata": {},
     "output_type": "execute_result"
    }
   ],
   "source": [
    "points"
   ]
  },
  {
   "cell_type": "code",
   "execution_count": 14,
   "id": "d74c95a8",
   "metadata": {},
   "outputs": [
    {
     "data": {
      "text/plain": [
       "(4.0, 1.0)"
      ]
     },
     "execution_count": 14,
     "metadata": {},
     "output_type": "execute_result"
    }
   ],
   "source": [
    "float(points[0]), float(points[1])"
   ]
  },
  {
   "cell_type": "code",
   "execution_count": 15,
   "id": "5563c41b",
   "metadata": {},
   "outputs": [],
   "source": [
    "points = torch.tensor([[4.0, 1.0], [5.0, 3.0], [2.0, 1.0]])"
   ]
  },
  {
   "cell_type": "code",
   "execution_count": 16,
   "id": "fd68c7da",
   "metadata": {},
   "outputs": [
    {
     "data": {
      "text/plain": [
       "tensor([[4., 1.],\n",
       "        [5., 3.],\n",
       "        [2., 1.]])"
      ]
     },
     "execution_count": 16,
     "metadata": {},
     "output_type": "execute_result"
    }
   ],
   "source": [
    "points"
   ]
  },
  {
   "cell_type": "code",
   "execution_count": 17,
   "id": "49fa8f3c",
   "metadata": {},
   "outputs": [
    {
     "data": {
      "text/plain": [
       "torch.Size([3, 2])"
      ]
     },
     "execution_count": 17,
     "metadata": {},
     "output_type": "execute_result"
    }
   ],
   "source": [
    "points.shape"
   ]
  },
  {
   "cell_type": "code",
   "execution_count": 18,
   "id": "d853b4ba",
   "metadata": {},
   "outputs": [
    {
     "data": {
      "text/plain": [
       "tensor([[4., 1.],\n",
       "        [5., 3.],\n",
       "        [2., 1.]])"
      ]
     },
     "execution_count": 18,
     "metadata": {},
     "output_type": "execute_result"
    }
   ],
   "source": [
    "points"
   ]
  },
  {
   "cell_type": "code",
   "execution_count": 19,
   "id": "38a35ab0",
   "metadata": {},
   "outputs": [],
   "source": [
    "points[0,0] = 5.0"
   ]
  },
  {
   "cell_type": "code",
   "execution_count": 20,
   "id": "83efb63d",
   "metadata": {},
   "outputs": [
    {
     "data": {
      "text/plain": [
       "tensor([[5., 1.],\n",
       "        [5., 3.],\n",
       "        [2., 1.]])"
      ]
     },
     "execution_count": 20,
     "metadata": {},
     "output_type": "execute_result"
    }
   ],
   "source": [
    "points"
   ]
  },
  {
   "cell_type": "code",
   "execution_count": 21,
   "id": "59a981db",
   "metadata": {},
   "outputs": [],
   "source": [
    "points[2,1] = 10.0"
   ]
  },
  {
   "cell_type": "code",
   "execution_count": 22,
   "id": "2c0240c3",
   "metadata": {},
   "outputs": [
    {
     "data": {
      "text/plain": [
       "tensor([[ 5.,  1.],\n",
       "        [ 5.,  3.],\n",
       "        [ 2., 10.]])"
      ]
     },
     "execution_count": 22,
     "metadata": {},
     "output_type": "execute_result"
    }
   ],
   "source": [
    "points"
   ]
  },
  {
   "cell_type": "code",
   "execution_count": 23,
   "id": "67ef7719",
   "metadata": {},
   "outputs": [
    {
     "data": {
      "text/plain": [
       "tensor([5., 1.])"
      ]
     },
     "execution_count": 23,
     "metadata": {},
     "output_type": "execute_result"
    }
   ],
   "source": [
    "points[0]"
   ]
  },
  {
   "cell_type": "markdown",
   "id": "e7c9d731",
   "metadata": {},
   "source": [
    "## Indexing Tensors"
   ]
  },
  {
   "cell_type": "code",
   "execution_count": 24,
   "id": "6567e39d",
   "metadata": {},
   "outputs": [
    {
     "data": {
      "text/plain": [
       "tensor([[ 5.,  1.],\n",
       "        [ 5.,  3.],\n",
       "        [ 2., 10.]])"
      ]
     },
     "execution_count": 24,
     "metadata": {},
     "output_type": "execute_result"
    }
   ],
   "source": [
    "points"
   ]
  },
  {
   "cell_type": "code",
   "execution_count": 25,
   "id": "523f2ff6",
   "metadata": {},
   "outputs": [
    {
     "data": {
      "text/plain": [
       "tensor([[ 5.,  3.],\n",
       "        [ 2., 10.]])"
      ]
     },
     "execution_count": 25,
     "metadata": {},
     "output_type": "execute_result"
    }
   ],
   "source": [
    "points[1:]"
   ]
  },
  {
   "cell_type": "code",
   "execution_count": 26,
   "id": "f746433e",
   "metadata": {},
   "outputs": [
    {
     "data": {
      "text/plain": [
       "tensor([5., 2.])"
      ]
     },
     "execution_count": 26,
     "metadata": {},
     "output_type": "execute_result"
    }
   ],
   "source": [
    "points[1:, 0]"
   ]
  },
  {
   "cell_type": "code",
   "execution_count": 27,
   "id": "6cd62e54",
   "metadata": {},
   "outputs": [
    {
     "data": {
      "text/plain": [
       "tensor([[[ 5.,  1.],\n",
       "         [ 5.,  3.],\n",
       "         [ 2., 10.]]])"
      ]
     },
     "execution_count": 27,
     "metadata": {},
     "output_type": "execute_result"
    }
   ],
   "source": [
    "# this adds a dimension of size 1, just like unsqueeze\n",
    "points[None] "
   ]
  },
  {
   "cell_type": "code",
   "execution_count": 28,
   "id": "3419a722",
   "metadata": {},
   "outputs": [
    {
     "data": {
      "text/plain": [
       "torch.Size([3, 2])"
      ]
     },
     "execution_count": 28,
     "metadata": {},
     "output_type": "execute_result"
    }
   ],
   "source": [
    "points.shape"
   ]
  },
  {
   "cell_type": "code",
   "execution_count": 29,
   "id": "6e9fdde1",
   "metadata": {},
   "outputs": [
    {
     "data": {
      "text/plain": [
       "torch.Size([1, 3, 2])"
      ]
     },
     "execution_count": 29,
     "metadata": {},
     "output_type": "execute_result"
    }
   ],
   "source": [
    "points[None].shape"
   ]
  },
  {
   "cell_type": "markdown",
   "id": "7cb34478",
   "metadata": {},
   "source": [
    "## Named Tensors\n",
    "\n",
    "### Problem with unnamed tensors"
   ]
  },
  {
   "cell_type": "code",
   "execution_count": 30,
   "id": "9b58239f",
   "metadata": {},
   "outputs": [],
   "source": [
    "img_t = torch.randn(3, 5, 5)\n",
    "weights = torch.tensor([0.2126, 0.7152, 0.0722])"
   ]
  },
  {
   "cell_type": "code",
   "execution_count": 31,
   "id": "86d58ebf",
   "metadata": {},
   "outputs": [],
   "source": [
    "batch_t = torch.randn(2, 3, 5, 5)"
   ]
  },
  {
   "cell_type": "code",
   "execution_count": 32,
   "id": "9ee384f3",
   "metadata": {},
   "outputs": [
    {
     "data": {
      "text/plain": [
       "torch.Size([3, 5, 5])"
      ]
     },
     "execution_count": 32,
     "metadata": {},
     "output_type": "execute_result"
    }
   ],
   "source": [
    "img_t.shape"
   ]
  },
  {
   "cell_type": "code",
   "execution_count": 33,
   "id": "4d69632b",
   "metadata": {},
   "outputs": [
    {
     "data": {
      "text/plain": [
       "torch.Size([2, 3, 5, 5])"
      ]
     },
     "execution_count": 33,
     "metadata": {},
     "output_type": "execute_result"
    }
   ],
   "source": [
    "batch_t.shape"
   ]
  },
  {
   "cell_type": "code",
   "execution_count": 34,
   "id": "154ca550",
   "metadata": {},
   "outputs": [
    {
     "data": {
      "text/plain": [
       "tensor([[-0.6071,  0.8489, -0.2893,  0.0878,  1.1609],\n",
       "        [ 0.3226,  0.3500, -0.8042, -0.6069, -0.5809],\n",
       "        [ 0.1942,  0.3179, -0.0983,  0.3349, -0.1960],\n",
       "        [ 0.1731, -0.5671,  0.5369, -0.0468, -0.8363],\n",
       "        [-0.5534,  0.3358,  0.3065,  0.3206, -0.3329]])"
      ]
     },
     "execution_count": 34,
     "metadata": {},
     "output_type": "execute_result"
    }
   ],
   "source": [
    "img_t.mean(-3)"
   ]
  },
  {
   "cell_type": "code",
   "execution_count": 35,
   "id": "213396a6",
   "metadata": {},
   "outputs": [
    {
     "data": {
      "text/plain": [
       "tensor([[[-0.4072, -0.0638, -0.1919,  0.2581,  0.1287],\n",
       "         [ 0.3594,  0.7438,  0.2285, -0.3491, -0.8795],\n",
       "         [-0.4737,  0.1090, -0.6899, -0.3977, -0.7098],\n",
       "         [ 0.1478,  1.2751, -0.9678, -0.3355,  0.0236],\n",
       "         [-0.5022,  0.1262,  0.0897, -0.8611, -0.3306]],\n",
       "\n",
       "        [[-0.2869, -0.0540,  0.7468, -0.6129,  0.0278],\n",
       "         [-0.1192, -0.7541, -0.2604, -0.2786, -0.0401],\n",
       "         [-0.1200, -0.0573,  0.7873,  0.2349, -0.6730],\n",
       "         [ 0.9490, -0.7578, -0.2667,  0.7276, -0.3799],\n",
       "         [-0.2657,  0.2919,  0.1153,  0.2924, -0.9056]]])"
      ]
     },
     "execution_count": 35,
     "metadata": {},
     "output_type": "execute_result"
    }
   ],
   "source": [
    "batch_t.mean(-3)"
   ]
  },
  {
   "cell_type": "code",
   "execution_count": 36,
   "id": "619dddf6",
   "metadata": {},
   "outputs": [
    {
     "data": {
      "text/plain": [
       "tensor([0.2126, 0.7152, 0.0722])"
      ]
     },
     "execution_count": 36,
     "metadata": {},
     "output_type": "execute_result"
    }
   ],
   "source": [
    "weights"
   ]
  },
  {
   "cell_type": "code",
   "execution_count": 37,
   "id": "9a1d9a1c",
   "metadata": {},
   "outputs": [],
   "source": [
    "unsqueeze_weights = weights.unsqueeze(-1).unsqueeze(-1)"
   ]
  },
  {
   "cell_type": "code",
   "execution_count": 38,
   "id": "d8c9aaa1",
   "metadata": {},
   "outputs": [
    {
     "data": {
      "text/plain": [
       "torch.Size([3, 1, 1])"
      ]
     },
     "execution_count": 38,
     "metadata": {},
     "output_type": "execute_result"
    }
   ],
   "source": [
    "unsqueeze_weights.shape"
   ]
  },
  {
   "cell_type": "code",
   "execution_count": 39,
   "id": "d0446a32",
   "metadata": {},
   "outputs": [
    {
     "data": {
      "text/plain": [
       "torch.Size([3, 5, 5])"
      ]
     },
     "execution_count": 39,
     "metadata": {},
     "output_type": "execute_result"
    }
   ],
   "source": [
    "img_t.shape"
   ]
  },
  {
   "cell_type": "code",
   "execution_count": 40,
   "id": "bf99cb50",
   "metadata": {},
   "outputs": [
    {
     "data": {
      "text/plain": [
       "torch.Size([3, 1, 1])"
      ]
     },
     "execution_count": 40,
     "metadata": {},
     "output_type": "execute_result"
    }
   ],
   "source": [
    "unsqueeze_weights.shape"
   ]
  },
  {
   "cell_type": "code",
   "execution_count": 41,
   "id": "d2913f59",
   "metadata": {},
   "outputs": [],
   "source": [
    "img_weights = img_t * unsqueeze_weights"
   ]
  },
  {
   "cell_type": "code",
   "execution_count": 42,
   "id": "bc59d7c9",
   "metadata": {},
   "outputs": [],
   "source": [
    "batch_weights = batch_t * unsqueeze_weights"
   ]
  },
  {
   "cell_type": "code",
   "execution_count": 43,
   "id": "3f7b549e",
   "metadata": {},
   "outputs": [
    {
     "data": {
      "text/plain": [
       "torch.Size([3, 5, 5])"
      ]
     },
     "execution_count": 43,
     "metadata": {},
     "output_type": "execute_result"
    }
   ],
   "source": [
    "img_weights.shape"
   ]
  },
  {
   "cell_type": "code",
   "execution_count": 44,
   "id": "305854f5",
   "metadata": {},
   "outputs": [],
   "source": [
    "img_gray_weighted = img_weights.mean(-3)"
   ]
  },
  {
   "cell_type": "code",
   "execution_count": 45,
   "id": "99b906b2",
   "metadata": {},
   "outputs": [],
   "source": [
    "batch_gray_weighted = batch_weights.mean(-3)"
   ]
  },
  {
   "cell_type": "code",
   "execution_count": 46,
   "id": "01340314",
   "metadata": {},
   "outputs": [
    {
     "data": {
      "text/plain": [
       "torch.Size([2, 5, 5])"
      ]
     },
     "execution_count": 46,
     "metadata": {},
     "output_type": "execute_result"
    }
   ],
   "source": [
    "batch_gray_weighted.shape"
   ]
  },
  {
   "cell_type": "code",
   "execution_count": 47,
   "id": "e6880b34",
   "metadata": {},
   "outputs": [
    {
     "data": {
      "text/plain": [
       "tensor([[-3.3827e-01,  4.0374e-01, -2.7028e-02,  6.0135e-02,  1.4355e-01],\n",
       "        [-2.6614e-02,  2.2627e-02, -4.0972e-01, -2.7174e-01, -3.9620e-01],\n",
       "        [ 1.8223e-02, -6.4909e-03, -7.5404e-02, -3.2924e-02, -3.0131e-01],\n",
       "        [-4.2192e-03, -3.0391e-01,  4.7924e-01,  2.6857e-01, -3.3472e-01],\n",
       "        [-6.1290e-02,  1.8861e-04,  1.8128e-01,  1.8338e-01, -1.3314e-01]])"
      ]
     },
     "execution_count": 47,
     "metadata": {},
     "output_type": "execute_result"
    }
   ],
   "source": [
    "img_gray_weighted"
   ]
  },
  {
   "cell_type": "markdown",
   "id": "aad53551",
   "metadata": {},
   "source": [
    "### Solutions with named tensors"
   ]
  },
  {
   "cell_type": "code",
   "execution_count": 48,
   "id": "375c59b3",
   "metadata": {},
   "outputs": [
    {
     "name": "stderr",
     "output_type": "stream",
     "text": [
      "/home/fm-pc-lt-278/.local/lib/python3.10/site-packages/torch/_tensor.py:1122: UserWarning: Named tensors and all their associated APIs are an experimental feature and subject to change. Please do not use them for anything important until they are released as stable. (Triggered internally at ../c10/core/TensorImpl.h:1788.)\n",
      "  return super().refine_names(names)\n"
     ]
    }
   ],
   "source": [
    "img_named = img_t.refine_names(...,'channels','rows', 'columns')\n",
    "batch_named = batch_t.refine_names(...,'channels','rows', 'columns')"
   ]
  },
  {
   "cell_type": "code",
   "execution_count": 49,
   "id": "45526e65",
   "metadata": {},
   "outputs": [
    {
     "data": {
      "text/plain": [
       "(torch.Size([3, 5, 5]), ('channels', 'rows', 'columns'))"
      ]
     },
     "execution_count": 49,
     "metadata": {},
     "output_type": "execute_result"
    }
   ],
   "source": [
    "img_named.shape, img_named.names"
   ]
  },
  {
   "cell_type": "code",
   "execution_count": 50,
   "id": "dd9deec0",
   "metadata": {},
   "outputs": [
    {
     "data": {
      "text/plain": [
       "(torch.Size([2, 3, 5, 5]), (None, 'channels', 'rows', 'columns'))"
      ]
     },
     "execution_count": 50,
     "metadata": {},
     "output_type": "execute_result"
    }
   ],
   "source": [
    "batch_named.shape, batch_named.names"
   ]
  },
  {
   "cell_type": "code",
   "execution_count": 51,
   "id": "1727627d",
   "metadata": {},
   "outputs": [],
   "source": [
    "weights_named = torch.tensor([0.2126, 0.7152, 0.0722], names = ['channels'])"
   ]
  },
  {
   "cell_type": "code",
   "execution_count": 52,
   "id": "af9bb9ea",
   "metadata": {},
   "outputs": [
    {
     "data": {
      "text/plain": [
       "tensor([0.2126, 0.7152, 0.0722], names=('channels',))"
      ]
     },
     "execution_count": 52,
     "metadata": {},
     "output_type": "execute_result"
    }
   ],
   "source": [
    "weights_named"
   ]
  },
  {
   "cell_type": "code",
   "execution_count": 53,
   "id": "902de6ef",
   "metadata": {},
   "outputs": [],
   "source": [
    "weights_aligned = weights_named.align_as(img_named)"
   ]
  },
  {
   "cell_type": "code",
   "execution_count": 54,
   "id": "40a19801",
   "metadata": {},
   "outputs": [
    {
     "data": {
      "text/plain": [
       "torch.Size([3, 1, 1])"
      ]
     },
     "execution_count": 54,
     "metadata": {},
     "output_type": "execute_result"
    }
   ],
   "source": [
    "weights_aligned.shape"
   ]
  },
  {
   "cell_type": "code",
   "execution_count": 55,
   "id": "3d8a4aac",
   "metadata": {},
   "outputs": [],
   "source": [
    "gray_named = (img_named * weights_aligned).sum('channels')"
   ]
  },
  {
   "cell_type": "code",
   "execution_count": 56,
   "id": "bf5f8566",
   "metadata": {},
   "outputs": [
    {
     "data": {
      "text/plain": [
       "tensor([[-1.0148e+00,  1.2112e+00, -8.1083e-02,  1.8041e-01,  4.3066e-01],\n",
       "        [-7.9841e-02,  6.7880e-02, -1.2292e+00, -8.1521e-01, -1.1886e+00],\n",
       "        [ 5.4668e-02, -1.9473e-02, -2.2621e-01, -9.8772e-02, -9.0393e-01],\n",
       "        [-1.2657e-02, -9.1174e-01,  1.4377e+00,  8.0570e-01, -1.0042e+00],\n",
       "        [-1.8387e-01,  5.6584e-04,  5.4385e-01,  5.5013e-01, -3.9941e-01]],\n",
       "       names=('rows', 'columns'))"
      ]
     },
     "execution_count": 56,
     "metadata": {},
     "output_type": "execute_result"
    }
   ],
   "source": [
    "gray_named"
   ]
  },
  {
   "cell_type": "markdown",
   "id": "330fc116",
   "metadata": {},
   "source": [
    "## Managing Tensors dtype attribute"
   ]
  },
  {
   "cell_type": "code",
   "execution_count": 57,
   "id": "52a1f254",
   "metadata": {},
   "outputs": [],
   "source": [
    "double_points = torch.ones(10,2, dtype=torch.double)"
   ]
  },
  {
   "cell_type": "code",
   "execution_count": 58,
   "id": "a60e7933",
   "metadata": {},
   "outputs": [
    {
     "data": {
      "text/plain": [
       "torch.float64"
      ]
     },
     "execution_count": 58,
     "metadata": {},
     "output_type": "execute_result"
    }
   ],
   "source": [
    "double_points.dtype"
   ]
  },
  {
   "cell_type": "code",
   "execution_count": 59,
   "id": "9d49d296",
   "metadata": {},
   "outputs": [],
   "source": [
    "short_points = torch.tensor([[2,3],[2,5]], dtype=torch.short)"
   ]
  },
  {
   "cell_type": "code",
   "execution_count": 60,
   "id": "b1b1208c",
   "metadata": {},
   "outputs": [
    {
     "data": {
      "text/plain": [
       "torch.int16"
      ]
     },
     "execution_count": 60,
     "metadata": {},
     "output_type": "execute_result"
    }
   ],
   "source": [
    "short_points.dtype"
   ]
  },
  {
   "cell_type": "code",
   "execution_count": 61,
   "id": "89e9c63f",
   "metadata": {},
   "outputs": [
    {
     "data": {
      "text/plain": [
       "tensor([0., 0.], dtype=torch.float64)"
      ]
     },
     "execution_count": 61,
     "metadata": {},
     "output_type": "execute_result"
    }
   ],
   "source": [
    "torch.zeros(2).double()"
   ]
  },
  {
   "cell_type": "code",
   "execution_count": 62,
   "id": "304d6e90",
   "metadata": {},
   "outputs": [
    {
     "data": {
      "text/plain": [
       "8"
      ]
     },
     "execution_count": 62,
     "metadata": {},
     "output_type": "execute_result"
    }
   ],
   "source": [
    "torch.get_num_threads()"
   ]
  },
  {
   "cell_type": "markdown",
   "id": "8d5e2155",
   "metadata": {},
   "source": [
    "## Indexing into Storage"
   ]
  },
  {
   "cell_type": "code",
   "execution_count": 63,
   "id": "1d1b27e2",
   "metadata": {},
   "outputs": [],
   "source": [
    "points = torch.tensor([[4.0, 1.0], [5.0, 3.0], [2.0, 1.0]])"
   ]
  },
  {
   "cell_type": "code",
   "execution_count": 64,
   "id": "5dac31b8",
   "metadata": {},
   "outputs": [
    {
     "name": "stderr",
     "output_type": "stream",
     "text": [
      "/tmp/ipykernel_100636/2396954748.py:1: UserWarning: TypedStorage is deprecated. It will be removed in the future and UntypedStorage will be the only storage class. This should only matter to you if you are using storages directly.  To access UntypedStorage directly, use tensor.untyped_storage() instead of tensor.storage()\n",
      "  points.storage()\n",
      "/home/fm-pc-lt-278/.local/lib/python3.10/site-packages/IPython/lib/pretty.py:778: UserWarning: TypedStorage is deprecated. It will be removed in the future and UntypedStorage will be the only storage class. This should only matter to you if you are using storages directly.  To access UntypedStorage directly, use tensor.untyped_storage() instead of tensor.storage()\n",
      "  output = repr(obj)\n",
      "/home/fm-pc-lt-278/.local/lib/python3.10/site-packages/torch/storage.py:645: UserWarning: TypedStorage is deprecated. It will be removed in the future and UntypedStorage will be the only storage class. This should only matter to you if you are using storages directly.  To access UntypedStorage directly, use tensor.untyped_storage() instead of tensor.storage()\n",
      "  return str(self)\n",
      "/home/fm-pc-lt-278/.local/lib/python3.10/site-packages/torch/storage.py:636: UserWarning: TypedStorage is deprecated. It will be removed in the future and UntypedStorage will be the only storage class. This should only matter to you if you are using storages directly.  To access UntypedStorage directly, use tensor.untyped_storage() instead of tensor.storage()\n",
      "  f'device={self.device}) of size {len(self)}]')\n",
      "/home/fm-pc-lt-278/.local/lib/python3.10/site-packages/torch/storage.py:637: UserWarning: TypedStorage is deprecated. It will be removed in the future and UntypedStorage will be the only storage class. This should only matter to you if you are using storages directly.  To access UntypedStorage directly, use tensor.untyped_storage() instead of tensor.storage()\n",
      "  if self.device.type == 'meta':\n",
      "/home/fm-pc-lt-278/.local/lib/python3.10/site-packages/torch/storage.py:640: UserWarning: TypedStorage is deprecated. It will be removed in the future and UntypedStorage will be the only storage class. This should only matter to you if you are using storages directly.  To access UntypedStorage directly, use tensor.untyped_storage() instead of tensor.storage()\n",
      "  data_str = ' ' + '\\n '.join(str(self[i]) for i in range(self.size()))\n"
     ]
    },
    {
     "data": {
      "text/plain": [
       " 4.0\n",
       " 1.0\n",
       " 5.0\n",
       " 3.0\n",
       " 2.0\n",
       " 1.0\n",
       "[torch.storage.TypedStorage(dtype=torch.float32, device=cpu) of size 6]"
      ]
     },
     "execution_count": 64,
     "metadata": {},
     "output_type": "execute_result"
    }
   ],
   "source": [
    "points.storage()"
   ]
  },
  {
   "cell_type": "code",
   "execution_count": 65,
   "id": "9511e142",
   "metadata": {},
   "outputs": [
    {
     "name": "stderr",
     "output_type": "stream",
     "text": [
      "/tmp/ipykernel_100636/3231221392.py:1: UserWarning: TypedStorage is deprecated. It will be removed in the future and UntypedStorage will be the only storage class. This should only matter to you if you are using storages directly.  To access UntypedStorage directly, use tensor.untyped_storage() instead of tensor.storage()\n",
      "  points_storage = points.storage()\n"
     ]
    }
   ],
   "source": [
    "points_storage = points.storage()"
   ]
  },
  {
   "cell_type": "code",
   "execution_count": 66,
   "id": "5ee6afba",
   "metadata": {},
   "outputs": [
    {
     "name": "stderr",
     "output_type": "stream",
     "text": [
      "/tmp/ipykernel_100636/4210428405.py:1: UserWarning: TypedStorage is deprecated. It will be removed in the future and UntypedStorage will be the only storage class. This should only matter to you if you are using storages directly.  To access UntypedStorage directly, use tensor.untyped_storage() instead of tensor.storage()\n",
      "  points_storage[0]\n"
     ]
    },
    {
     "data": {
      "text/plain": [
       "4.0"
      ]
     },
     "execution_count": 66,
     "metadata": {},
     "output_type": "execute_result"
    }
   ],
   "source": [
    "points_storage[0]"
   ]
  },
  {
   "cell_type": "code",
   "execution_count": 67,
   "id": "9f975ff9",
   "metadata": {},
   "outputs": [
    {
     "name": "stderr",
     "output_type": "stream",
     "text": [
      "/tmp/ipykernel_100636/2426840409.py:1: UserWarning: TypedStorage is deprecated. It will be removed in the future and UntypedStorage will be the only storage class. This should only matter to you if you are using storages directly.  To access UntypedStorage directly, use tensor.untyped_storage() instead of tensor.storage()\n",
      "  points_storage[0] = 100.0\n"
     ]
    }
   ],
   "source": [
    "points_storage[0] = 100.0\n"
   ]
  },
  {
   "cell_type": "code",
   "execution_count": 68,
   "id": "c07b191a",
   "metadata": {},
   "outputs": [
    {
     "data": {
      "text/plain": [
       "tensor([[100.,   1.],\n",
       "        [  5.,   3.],\n",
       "        [  2.,   1.]])"
      ]
     },
     "execution_count": 68,
     "metadata": {},
     "output_type": "execute_result"
    }
   ],
   "source": [
    "points"
   ]
  },
  {
   "cell_type": "markdown",
   "id": "6e417f27",
   "metadata": {},
   "source": [
    "## Views of another tensor's storage"
   ]
  },
  {
   "cell_type": "code",
   "execution_count": 69,
   "id": "89b019fe",
   "metadata": {},
   "outputs": [],
   "source": [
    "points = torch.tensor([[4.0, 1.0], [5.0, 3.0], [2.0, 1.0]])"
   ]
  },
  {
   "cell_type": "code",
   "execution_count": 70,
   "id": "9f2b3d83",
   "metadata": {},
   "outputs": [
    {
     "data": {
      "text/plain": [
       "tensor([[4., 1.],\n",
       "        [5., 3.],\n",
       "        [2., 1.]])"
      ]
     },
     "execution_count": 70,
     "metadata": {},
     "output_type": "execute_result"
    }
   ],
   "source": [
    "points"
   ]
  },
  {
   "cell_type": "code",
   "execution_count": 71,
   "id": "1b3eae2c",
   "metadata": {},
   "outputs": [],
   "source": [
    "second_point = points[1]"
   ]
  },
  {
   "cell_type": "code",
   "execution_count": 72,
   "id": "8394490f",
   "metadata": {},
   "outputs": [
    {
     "data": {
      "text/plain": [
       "tensor([5., 3.])"
      ]
     },
     "execution_count": 72,
     "metadata": {},
     "output_type": "execute_result"
    }
   ],
   "source": [
    "second_point"
   ]
  },
  {
   "cell_type": "code",
   "execution_count": 73,
   "id": "e854410e",
   "metadata": {},
   "outputs": [
    {
     "data": {
      "text/plain": [
       "2"
      ]
     },
     "execution_count": 73,
     "metadata": {},
     "output_type": "execute_result"
    }
   ],
   "source": [
    "second_point.storage_offset()"
   ]
  },
  {
   "cell_type": "code",
   "execution_count": 74,
   "id": "0c056cac",
   "metadata": {},
   "outputs": [
    {
     "data": {
      "text/plain": [
       "torch.Size([2])"
      ]
     },
     "execution_count": 74,
     "metadata": {},
     "output_type": "execute_result"
    }
   ],
   "source": [
    "second_point.size()"
   ]
  },
  {
   "cell_type": "markdown",
   "id": "f5179e09",
   "metadata": {},
   "source": [
    "## Transposing without copying"
   ]
  },
  {
   "cell_type": "code",
   "execution_count": 80,
   "id": "f733ed5d",
   "metadata": {},
   "outputs": [
    {
     "data": {
      "text/plain": [
       "tensor([[4., 1.],\n",
       "        [5., 3.],\n",
       "        [2., 1.]])"
      ]
     },
     "execution_count": 80,
     "metadata": {},
     "output_type": "execute_result"
    }
   ],
   "source": [
    "points = torch.tensor([[4.0, 1.0], [5.0, 3.0], [2.0, 1.0]])\n",
    "points"
   ]
  },
  {
   "cell_type": "code",
   "execution_count": 81,
   "id": "a37b0c9b",
   "metadata": {},
   "outputs": [
    {
     "data": {
      "text/plain": [
       "tensor([[4., 5., 2.],\n",
       "        [1., 3., 1.]])"
      ]
     },
     "execution_count": 81,
     "metadata": {},
     "output_type": "execute_result"
    }
   ],
   "source": [
    "points_t = points.t()\n",
    "points_t"
   ]
  },
  {
   "cell_type": "code",
   "execution_count": 83,
   "id": "571c597e",
   "metadata": {},
   "outputs": [
    {
     "data": {
      "text/plain": [
       "True"
      ]
     },
     "execution_count": 83,
     "metadata": {},
     "output_type": "execute_result"
    }
   ],
   "source": [
    "id(points.untyped_storage()) == id(points_t.untyped_storage())"
   ]
  },
  {
   "cell_type": "code",
   "execution_count": 85,
   "id": "3dea8cd6",
   "metadata": {},
   "outputs": [
    {
     "data": {
      "text/plain": [
       "(2, 1)"
      ]
     },
     "execution_count": 85,
     "metadata": {},
     "output_type": "execute_result"
    }
   ],
   "source": [
    "points.stride()"
   ]
  },
  {
   "cell_type": "code",
   "execution_count": 86,
   "id": "211a23dc",
   "metadata": {},
   "outputs": [
    {
     "data": {
      "text/plain": [
       "(1, 2)"
      ]
     },
     "execution_count": 86,
     "metadata": {},
     "output_type": "execute_result"
    }
   ],
   "source": [
    "points_t.stride()"
   ]
  },
  {
   "cell_type": "code",
   "execution_count": null,
   "id": "a0996105",
   "metadata": {},
   "outputs": [],
   "source": []
  }
 ],
 "metadata": {
  "kernelspec": {
   "display_name": "Python 3 (ipykernel)",
   "language": "python",
   "name": "python3"
  },
  "language_info": {
   "codemirror_mode": {
    "name": "ipython",
    "version": 3
   },
   "file_extension": ".py",
   "mimetype": "text/x-python",
   "name": "python",
   "nbconvert_exporter": "python",
   "pygments_lexer": "ipython3",
   "version": "3.10.6"
  }
 },
 "nbformat": 4,
 "nbformat_minor": 5
}
