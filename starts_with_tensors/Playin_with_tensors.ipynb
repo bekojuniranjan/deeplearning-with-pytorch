{
 "cells": [
  {
   "cell_type": "code",
   "execution_count": 1,
   "id": "522a402f",
   "metadata": {},
   "outputs": [],
   "source": [
    "import torch"
   ]
  },
  {
   "cell_type": "code",
   "execution_count": 2,
   "id": "8b7b988b",
   "metadata": {},
   "outputs": [
    {
     "data": {
      "text/plain": [
       "tensor([1., 1., 1., 1.])"
      ]
     },
     "execution_count": 2,
     "metadata": {},
     "output_type": "execute_result"
    }
   ],
   "source": [
    "torch.ones(4)"
   ]
  },
  {
   "cell_type": "code",
   "execution_count": 3,
   "id": "38c08722",
   "metadata": {},
   "outputs": [
    {
     "data": {
      "text/plain": [
       "tensor([[1., 1., 1., 1.],\n",
       "        [1., 1., 1., 1.],\n",
       "        [1., 1., 1., 1.],\n",
       "        [1., 1., 1., 1.]])"
      ]
     },
     "execution_count": 3,
     "metadata": {},
     "output_type": "execute_result"
    }
   ],
   "source": [
    "torch.ones(4,4)"
   ]
  },
  {
   "cell_type": "code",
   "execution_count": 4,
   "id": "0ea92129",
   "metadata": {},
   "outputs": [],
   "source": [
    "a = torch.ones(3)"
   ]
  },
  {
   "cell_type": "code",
   "execution_count": 5,
   "id": "134b10eb",
   "metadata": {},
   "outputs": [
    {
     "data": {
      "text/plain": [
       "tensor([1., 1., 1.])"
      ]
     },
     "execution_count": 5,
     "metadata": {},
     "output_type": "execute_result"
    }
   ],
   "source": [
    "a"
   ]
  },
  {
   "cell_type": "code",
   "execution_count": 6,
   "id": "dec9f580",
   "metadata": {},
   "outputs": [
    {
     "data": {
      "text/plain": [
       "tensor(1.)"
      ]
     },
     "execution_count": 6,
     "metadata": {},
     "output_type": "execute_result"
    }
   ],
   "source": [
    "a[0]"
   ]
  },
  {
   "cell_type": "code",
   "execution_count": 7,
   "id": "34f7919c",
   "metadata": {},
   "outputs": [
    {
     "data": {
      "text/plain": [
       "1.0"
      ]
     },
     "execution_count": 7,
     "metadata": {},
     "output_type": "execute_result"
    }
   ],
   "source": [
    "float(a[0])"
   ]
  },
  {
   "cell_type": "code",
   "execution_count": 8,
   "id": "f3adaece",
   "metadata": {},
   "outputs": [],
   "source": [
    "a[2] = 2.0"
   ]
  },
  {
   "cell_type": "code",
   "execution_count": 9,
   "id": "a8b55f77",
   "metadata": {},
   "outputs": [
    {
     "data": {
      "text/plain": [
       "tensor([1., 1., 2.])"
      ]
     },
     "execution_count": 9,
     "metadata": {},
     "output_type": "execute_result"
    }
   ],
   "source": [
    "a"
   ]
  },
  {
   "cell_type": "markdown",
   "id": "33b04c9c",
   "metadata": {},
   "source": [
    "## The essence of Tensors"
   ]
  },
  {
   "cell_type": "code",
   "execution_count": 10,
   "id": "d4f2401b",
   "metadata": {},
   "outputs": [],
   "source": [
    "\n",
    "#representing a triangle using three points using tensors\n",
    "\n",
    "points = torch.zeros(6)\n",
    "points[0] = 4.0\n",
    "points[1] = 1.0\n",
    "points[2] = 5.0\n",
    "points[3] = 3.0\n",
    "points[4] = 2.0\n",
    "points[5] = 1.0\n"
   ]
  },
  {
   "cell_type": "code",
   "execution_count": 11,
   "id": "36e19bed",
   "metadata": {},
   "outputs": [
    {
     "data": {
      "text/plain": [
       "tensor([4., 1., 5., 3., 2., 1.])"
      ]
     },
     "execution_count": 11,
     "metadata": {},
     "output_type": "execute_result"
    }
   ],
   "source": [
    "points"
   ]
  },
  {
   "cell_type": "code",
   "execution_count": 12,
   "id": "70e21fd6",
   "metadata": {},
   "outputs": [],
   "source": [
    "points = torch.tensor([4.0, 1.0, 5.0, 3.0, 2.0, 1.0])"
   ]
  },
  {
   "cell_type": "code",
   "execution_count": 13,
   "id": "e670d908",
   "metadata": {},
   "outputs": [
    {
     "data": {
      "text/plain": [
       "tensor([4., 1., 5., 3., 2., 1.])"
      ]
     },
     "execution_count": 13,
     "metadata": {},
     "output_type": "execute_result"
    }
   ],
   "source": [
    "points"
   ]
  },
  {
   "cell_type": "code",
   "execution_count": 14,
   "id": "6bd3c14a",
   "metadata": {},
   "outputs": [
    {
     "data": {
      "text/plain": [
       "(4.0, 1.0)"
      ]
     },
     "execution_count": 14,
     "metadata": {},
     "output_type": "execute_result"
    }
   ],
   "source": [
    "float(points[0]), float(points[1])"
   ]
  },
  {
   "cell_type": "code",
   "execution_count": 15,
   "id": "6fcb59b3",
   "metadata": {},
   "outputs": [],
   "source": [
    "points = torch.tensor([[4.0, 1.0], [5.0, 3.0], [2.0, 1.0]])"
   ]
  },
  {
   "cell_type": "code",
   "execution_count": 16,
   "id": "de933822",
   "metadata": {},
   "outputs": [
    {
     "data": {
      "text/plain": [
       "tensor([[4., 1.],\n",
       "        [5., 3.],\n",
       "        [2., 1.]])"
      ]
     },
     "execution_count": 16,
     "metadata": {},
     "output_type": "execute_result"
    }
   ],
   "source": [
    "points"
   ]
  },
  {
   "cell_type": "code",
   "execution_count": 17,
   "id": "99d61b69",
   "metadata": {},
   "outputs": [
    {
     "data": {
      "text/plain": [
       "torch.Size([3, 2])"
      ]
     },
     "execution_count": 17,
     "metadata": {},
     "output_type": "execute_result"
    }
   ],
   "source": [
    "points.shape"
   ]
  },
  {
   "cell_type": "code",
   "execution_count": 18,
   "id": "f8f08efa",
   "metadata": {},
   "outputs": [
    {
     "data": {
      "text/plain": [
       "tensor([[4., 1.],\n",
       "        [5., 3.],\n",
       "        [2., 1.]])"
      ]
     },
     "execution_count": 18,
     "metadata": {},
     "output_type": "execute_result"
    }
   ],
   "source": [
    "points"
   ]
  },
  {
   "cell_type": "code",
   "execution_count": 19,
   "id": "8617bd05",
   "metadata": {},
   "outputs": [],
   "source": [
    "points[0,0] = 5.0"
   ]
  },
  {
   "cell_type": "code",
   "execution_count": 20,
   "id": "d3ab1610",
   "metadata": {},
   "outputs": [
    {
     "data": {
      "text/plain": [
       "tensor([[5., 1.],\n",
       "        [5., 3.],\n",
       "        [2., 1.]])"
      ]
     },
     "execution_count": 20,
     "metadata": {},
     "output_type": "execute_result"
    }
   ],
   "source": [
    "points"
   ]
  },
  {
   "cell_type": "code",
   "execution_count": 21,
   "id": "cf4e418c",
   "metadata": {},
   "outputs": [],
   "source": [
    "points[2,1] = 10.0"
   ]
  },
  {
   "cell_type": "code",
   "execution_count": 22,
   "id": "972ecfa7",
   "metadata": {},
   "outputs": [
    {
     "data": {
      "text/plain": [
       "tensor([[ 5.,  1.],\n",
       "        [ 5.,  3.],\n",
       "        [ 2., 10.]])"
      ]
     },
     "execution_count": 22,
     "metadata": {},
     "output_type": "execute_result"
    }
   ],
   "source": [
    "points"
   ]
  },
  {
   "cell_type": "code",
   "execution_count": 23,
   "id": "fc85732d",
   "metadata": {},
   "outputs": [
    {
     "data": {
      "text/plain": [
       "tensor([5., 1.])"
      ]
     },
     "execution_count": 23,
     "metadata": {},
     "output_type": "execute_result"
    }
   ],
   "source": [
    "points[0]"
   ]
  },
  {
   "cell_type": "markdown",
   "id": "01bd9757",
   "metadata": {},
   "source": [
    "## Indexing Tensors"
   ]
  },
  {
   "cell_type": "code",
   "execution_count": 24,
   "id": "1a7fe119",
   "metadata": {},
   "outputs": [
    {
     "data": {
      "text/plain": [
       "tensor([[ 5.,  1.],\n",
       "        [ 5.,  3.],\n",
       "        [ 2., 10.]])"
      ]
     },
     "execution_count": 24,
     "metadata": {},
     "output_type": "execute_result"
    }
   ],
   "source": [
    "points"
   ]
  },
  {
   "cell_type": "code",
   "execution_count": 25,
   "id": "cb982de7",
   "metadata": {},
   "outputs": [
    {
     "data": {
      "text/plain": [
       "tensor([[ 5.,  3.],\n",
       "        [ 2., 10.]])"
      ]
     },
     "execution_count": 25,
     "metadata": {},
     "output_type": "execute_result"
    }
   ],
   "source": [
    "points[1:]"
   ]
  },
  {
   "cell_type": "code",
   "execution_count": 26,
   "id": "8e4c40d9",
   "metadata": {},
   "outputs": [
    {
     "data": {
      "text/plain": [
       "tensor([5., 2.])"
      ]
     },
     "execution_count": 26,
     "metadata": {},
     "output_type": "execute_result"
    }
   ],
   "source": [
    "points[1:, 0]"
   ]
  },
  {
   "cell_type": "code",
   "execution_count": 27,
   "id": "4c531c9e",
   "metadata": {},
   "outputs": [
    {
     "data": {
      "text/plain": [
       "tensor([[[ 5.,  1.],\n",
       "         [ 5.,  3.],\n",
       "         [ 2., 10.]]])"
      ]
     },
     "execution_count": 27,
     "metadata": {},
     "output_type": "execute_result"
    }
   ],
   "source": [
    "# this adds a dimension of size 1, just like unsqueeze\n",
    "points[None] "
   ]
  },
  {
   "cell_type": "code",
   "execution_count": 28,
   "id": "6d03129f",
   "metadata": {},
   "outputs": [
    {
     "data": {
      "text/plain": [
       "torch.Size([3, 2])"
      ]
     },
     "execution_count": 28,
     "metadata": {},
     "output_type": "execute_result"
    }
   ],
   "source": [
    "points.shape"
   ]
  },
  {
   "cell_type": "code",
   "execution_count": 29,
   "id": "b21c1488",
   "metadata": {},
   "outputs": [
    {
     "data": {
      "text/plain": [
       "torch.Size([1, 3, 2])"
      ]
     },
     "execution_count": 29,
     "metadata": {},
     "output_type": "execute_result"
    }
   ],
   "source": [
    "points[None].shape"
   ]
  },
  {
   "cell_type": "markdown",
   "id": "d69d034a",
   "metadata": {},
   "source": [
    "## Named Tensors\n",
    "\n",
    "### Problem with unnamed tensors"
   ]
  },
  {
   "cell_type": "code",
   "execution_count": 30,
   "id": "1d5b6e1e",
   "metadata": {},
   "outputs": [],
   "source": [
    "img_t = torch.randn(3, 5, 5)\n",
    "weights = torch.tensor([0.2126, 0.7152, 0.0722])"
   ]
  },
  {
   "cell_type": "code",
   "execution_count": 31,
   "id": "a569aecd",
   "metadata": {},
   "outputs": [],
   "source": [
    "batch_t = torch.randn(2, 3, 5, 5)"
   ]
  },
  {
   "cell_type": "code",
   "execution_count": 32,
   "id": "95f53c52",
   "metadata": {},
   "outputs": [
    {
     "data": {
      "text/plain": [
       "torch.Size([3, 5, 5])"
      ]
     },
     "execution_count": 32,
     "metadata": {},
     "output_type": "execute_result"
    }
   ],
   "source": [
    "img_t.shape"
   ]
  },
  {
   "cell_type": "code",
   "execution_count": 33,
   "id": "b63716ef",
   "metadata": {},
   "outputs": [
    {
     "data": {
      "text/plain": [
       "torch.Size([2, 3, 5, 5])"
      ]
     },
     "execution_count": 33,
     "metadata": {},
     "output_type": "execute_result"
    }
   ],
   "source": [
    "batch_t.shape"
   ]
  },
  {
   "cell_type": "code",
   "execution_count": 34,
   "id": "0aa1c3c5",
   "metadata": {},
   "outputs": [
    {
     "data": {
      "text/plain": [
       "tensor([[-0.6071,  0.8489, -0.2893,  0.0878,  1.1609],\n",
       "        [ 0.3226,  0.3500, -0.8042, -0.6069, -0.5809],\n",
       "        [ 0.1942,  0.3179, -0.0983,  0.3349, -0.1960],\n",
       "        [ 0.1731, -0.5671,  0.5369, -0.0468, -0.8363],\n",
       "        [-0.5534,  0.3358,  0.3065,  0.3206, -0.3329]])"
      ]
     },
     "execution_count": 34,
     "metadata": {},
     "output_type": "execute_result"
    }
   ],
   "source": [
    "img_t.mean(-3)"
   ]
  },
  {
   "cell_type": "code",
   "execution_count": 35,
   "id": "d8efb320",
   "metadata": {},
   "outputs": [
    {
     "data": {
      "text/plain": [
       "tensor([[[-0.4072, -0.0638, -0.1919,  0.2581,  0.1287],\n",
       "         [ 0.3594,  0.7438,  0.2285, -0.3491, -0.8795],\n",
       "         [-0.4737,  0.1090, -0.6899, -0.3977, -0.7098],\n",
       "         [ 0.1478,  1.2751, -0.9678, -0.3355,  0.0236],\n",
       "         [-0.5022,  0.1262,  0.0897, -0.8611, -0.3306]],\n",
       "\n",
       "        [[-0.2869, -0.0540,  0.7468, -0.6129,  0.0278],\n",
       "         [-0.1192, -0.7541, -0.2604, -0.2786, -0.0401],\n",
       "         [-0.1200, -0.0573,  0.7873,  0.2349, -0.6730],\n",
       "         [ 0.9490, -0.7578, -0.2667,  0.7276, -0.3799],\n",
       "         [-0.2657,  0.2919,  0.1153,  0.2924, -0.9056]]])"
      ]
     },
     "execution_count": 35,
     "metadata": {},
     "output_type": "execute_result"
    }
   ],
   "source": [
    "batch_t.mean(-3)"
   ]
  },
  {
   "cell_type": "code",
   "execution_count": 36,
   "id": "f33ed7d8",
   "metadata": {},
   "outputs": [
    {
     "data": {
      "text/plain": [
       "tensor([0.2126, 0.7152, 0.0722])"
      ]
     },
     "execution_count": 36,
     "metadata": {},
     "output_type": "execute_result"
    }
   ],
   "source": [
    "weights"
   ]
  },
  {
   "cell_type": "code",
   "execution_count": 37,
   "id": "10373f19",
   "metadata": {},
   "outputs": [],
   "source": [
    "unsqueeze_weights = weights.unsqueeze(-1).unsqueeze(-1)"
   ]
  },
  {
   "cell_type": "code",
   "execution_count": 38,
   "id": "c64f5422",
   "metadata": {},
   "outputs": [
    {
     "data": {
      "text/plain": [
       "torch.Size([3, 1, 1])"
      ]
     },
     "execution_count": 38,
     "metadata": {},
     "output_type": "execute_result"
    }
   ],
   "source": [
    "unsqueeze_weights.shape"
   ]
  },
  {
   "cell_type": "code",
   "execution_count": 39,
   "id": "8245730c",
   "metadata": {},
   "outputs": [
    {
     "data": {
      "text/plain": [
       "torch.Size([3, 5, 5])"
      ]
     },
     "execution_count": 39,
     "metadata": {},
     "output_type": "execute_result"
    }
   ],
   "source": [
    "img_t.shape"
   ]
  },
  {
   "cell_type": "code",
   "execution_count": 40,
   "id": "bc425423",
   "metadata": {},
   "outputs": [
    {
     "data": {
      "text/plain": [
       "torch.Size([3, 1, 1])"
      ]
     },
     "execution_count": 40,
     "metadata": {},
     "output_type": "execute_result"
    }
   ],
   "source": [
    "unsqueeze_weights.shape"
   ]
  },
  {
   "cell_type": "code",
   "execution_count": 41,
   "id": "0dcf0695",
   "metadata": {},
   "outputs": [],
   "source": [
    "img_weights = img_t * unsqueeze_weights"
   ]
  },
  {
   "cell_type": "code",
   "execution_count": 42,
   "id": "90f115f8",
   "metadata": {},
   "outputs": [],
   "source": [
    "batch_weights = batch_t * unsqueeze_weights"
   ]
  },
  {
   "cell_type": "code",
   "execution_count": 43,
   "id": "e14c7e03",
   "metadata": {},
   "outputs": [
    {
     "data": {
      "text/plain": [
       "torch.Size([3, 5, 5])"
      ]
     },
     "execution_count": 43,
     "metadata": {},
     "output_type": "execute_result"
    }
   ],
   "source": [
    "img_weights.shape"
   ]
  },
  {
   "cell_type": "code",
   "execution_count": 44,
   "id": "262925a0",
   "metadata": {},
   "outputs": [],
   "source": [
    "img_gray_weighted = img_weights.mean(-3)"
   ]
  },
  {
   "cell_type": "code",
   "execution_count": 45,
   "id": "f0a4d22d",
   "metadata": {},
   "outputs": [],
   "source": [
    "batch_gray_weighted = batch_weights.mean(-3)"
   ]
  },
  {
   "cell_type": "code",
   "execution_count": 46,
   "id": "639bf8ad",
   "metadata": {},
   "outputs": [
    {
     "data": {
      "text/plain": [
       "torch.Size([2, 5, 5])"
      ]
     },
     "execution_count": 46,
     "metadata": {},
     "output_type": "execute_result"
    }
   ],
   "source": [
    "batch_gray_weighted.shape"
   ]
  },
  {
   "cell_type": "code",
   "execution_count": 47,
   "id": "a8ec5e43",
   "metadata": {},
   "outputs": [
    {
     "data": {
      "text/plain": [
       "tensor([[-3.3827e-01,  4.0374e-01, -2.7028e-02,  6.0135e-02,  1.4355e-01],\n",
       "        [-2.6614e-02,  2.2627e-02, -4.0972e-01, -2.7174e-01, -3.9620e-01],\n",
       "        [ 1.8223e-02, -6.4909e-03, -7.5404e-02, -3.2924e-02, -3.0131e-01],\n",
       "        [-4.2192e-03, -3.0391e-01,  4.7924e-01,  2.6857e-01, -3.3472e-01],\n",
       "        [-6.1290e-02,  1.8861e-04,  1.8128e-01,  1.8338e-01, -1.3314e-01]])"
      ]
     },
     "execution_count": 47,
     "metadata": {},
     "output_type": "execute_result"
    }
   ],
   "source": [
    "img_gray_weighted"
   ]
  },
  {
   "cell_type": "markdown",
   "id": "9930b969",
   "metadata": {},
   "source": [
    "### Solutions with named tensors"
   ]
  },
  {
   "cell_type": "code",
   "execution_count": 48,
   "id": "bde74a3f",
   "metadata": {},
   "outputs": [
    {
     "name": "stderr",
     "output_type": "stream",
     "text": [
      "/home/fm-pc-lt-278/.local/lib/python3.10/site-packages/torch/_tensor.py:1122: UserWarning: Named tensors and all their associated APIs are an experimental feature and subject to change. Please do not use them for anything important until they are released as stable. (Triggered internally at ../c10/core/TensorImpl.h:1788.)\n",
      "  return super().refine_names(names)\n"
     ]
    }
   ],
   "source": [
    "img_named = img_t.refine_names(...,'channels','rows', 'columns')\n",
    "batch_named = batch_t.refine_names(...,'channels','rows', 'columns')"
   ]
  },
  {
   "cell_type": "code",
   "execution_count": 49,
   "id": "8802129b",
   "metadata": {},
   "outputs": [
    {
     "data": {
      "text/plain": [
       "(torch.Size([3, 5, 5]), ('channels', 'rows', 'columns'))"
      ]
     },
     "execution_count": 49,
     "metadata": {},
     "output_type": "execute_result"
    }
   ],
   "source": [
    "img_named.shape, img_named.names"
   ]
  },
  {
   "cell_type": "code",
   "execution_count": 50,
   "id": "cbe03137",
   "metadata": {},
   "outputs": [
    {
     "data": {
      "text/plain": [
       "(torch.Size([2, 3, 5, 5]), (None, 'channels', 'rows', 'columns'))"
      ]
     },
     "execution_count": 50,
     "metadata": {},
     "output_type": "execute_result"
    }
   ],
   "source": [
    "batch_named.shape, batch_named.names"
   ]
  },
  {
   "cell_type": "code",
   "execution_count": 51,
   "id": "47393594",
   "metadata": {},
   "outputs": [],
   "source": [
    "weights_named = torch.tensor([0.2126, 0.7152, 0.0722], names = ['channels'])"
   ]
  },
  {
   "cell_type": "code",
   "execution_count": 52,
   "id": "89538c95",
   "metadata": {},
   "outputs": [
    {
     "data": {
      "text/plain": [
       "tensor([0.2126, 0.7152, 0.0722], names=('channels',))"
      ]
     },
     "execution_count": 52,
     "metadata": {},
     "output_type": "execute_result"
    }
   ],
   "source": [
    "weights_named"
   ]
  },
  {
   "cell_type": "code",
   "execution_count": 53,
   "id": "c5de0aae",
   "metadata": {},
   "outputs": [],
   "source": [
    "weights_aligned = weights_named.align_as(img_named)"
   ]
  },
  {
   "cell_type": "code",
   "execution_count": 54,
   "id": "dd0bc294",
   "metadata": {},
   "outputs": [
    {
     "data": {
      "text/plain": [
       "torch.Size([3, 1, 1])"
      ]
     },
     "execution_count": 54,
     "metadata": {},
     "output_type": "execute_result"
    }
   ],
   "source": [
    "weights_aligned.shape"
   ]
  },
  {
   "cell_type": "code",
   "execution_count": 55,
   "id": "40005d69",
   "metadata": {},
   "outputs": [],
   "source": [
    "gray_named = (img_named * weights_aligned).sum('channels')"
   ]
  },
  {
   "cell_type": "code",
   "execution_count": 56,
   "id": "e29b7d97",
   "metadata": {},
   "outputs": [
    {
     "data": {
      "text/plain": [
       "tensor([[-1.0148e+00,  1.2112e+00, -8.1083e-02,  1.8041e-01,  4.3066e-01],\n",
       "        [-7.9841e-02,  6.7880e-02, -1.2292e+00, -8.1521e-01, -1.1886e+00],\n",
       "        [ 5.4668e-02, -1.9473e-02, -2.2621e-01, -9.8772e-02, -9.0393e-01],\n",
       "        [-1.2657e-02, -9.1174e-01,  1.4377e+00,  8.0570e-01, -1.0042e+00],\n",
       "        [-1.8387e-01,  5.6584e-04,  5.4385e-01,  5.5013e-01, -3.9941e-01]],\n",
       "       names=('rows', 'columns'))"
      ]
     },
     "execution_count": 56,
     "metadata": {},
     "output_type": "execute_result"
    }
   ],
   "source": [
    "gray_named"
   ]
  },
  {
   "cell_type": "markdown",
   "id": "bd2ae873",
   "metadata": {},
   "source": [
    "## Managing Tensors dtype attribute"
   ]
  },
  {
   "cell_type": "code",
   "execution_count": 57,
   "id": "5a149a0d",
   "metadata": {},
   "outputs": [],
   "source": [
    "double_points = torch.ones(10,2, dtype=torch.double)"
   ]
  },
  {
   "cell_type": "code",
   "execution_count": 58,
   "id": "5b017ebe",
   "metadata": {},
   "outputs": [
    {
     "data": {
      "text/plain": [
       "torch.float64"
      ]
     },
     "execution_count": 58,
     "metadata": {},
     "output_type": "execute_result"
    }
   ],
   "source": [
    "double_points.dtype"
   ]
  },
  {
   "cell_type": "code",
   "execution_count": 59,
   "id": "391a87ab",
   "metadata": {},
   "outputs": [],
   "source": [
    "short_points = torch.tensor([[2,3],[2,5]], dtype=torch.short)"
   ]
  },
  {
   "cell_type": "code",
   "execution_count": 60,
   "id": "e032f9ee",
   "metadata": {},
   "outputs": [
    {
     "data": {
      "text/plain": [
       "torch.int16"
      ]
     },
     "execution_count": 60,
     "metadata": {},
     "output_type": "execute_result"
    }
   ],
   "source": [
    "short_points.dtype"
   ]
  },
  {
   "cell_type": "code",
   "execution_count": 61,
   "id": "4d10a268",
   "metadata": {},
   "outputs": [
    {
     "data": {
      "text/plain": [
       "tensor([0., 0.], dtype=torch.float64)"
      ]
     },
     "execution_count": 61,
     "metadata": {},
     "output_type": "execute_result"
    }
   ],
   "source": [
    "torch.zeros(2).double()"
   ]
  },
  {
   "cell_type": "code",
   "execution_count": 62,
   "id": "e8025b0c",
   "metadata": {},
   "outputs": [
    {
     "data": {
      "text/plain": [
       "8"
      ]
     },
     "execution_count": 62,
     "metadata": {},
     "output_type": "execute_result"
    }
   ],
   "source": [
    "torch.get_num_threads()"
   ]
  },
  {
   "cell_type": "markdown",
   "id": "1df18111",
   "metadata": {},
   "source": [
    "## Indexing into Storage"
   ]
  },
  {
   "cell_type": "code",
   "execution_count": 63,
   "id": "2d2db09c",
   "metadata": {},
   "outputs": [],
   "source": [
    "points = torch.tensor([[4.0, 1.0], [5.0, 3.0], [2.0, 1.0]])"
   ]
  },
  {
   "cell_type": "code",
   "execution_count": 64,
   "id": "cd059288",
   "metadata": {},
   "outputs": [
    {
     "name": "stderr",
     "output_type": "stream",
     "text": [
      "/tmp/ipykernel_100636/2396954748.py:1: UserWarning: TypedStorage is deprecated. It will be removed in the future and UntypedStorage will be the only storage class. This should only matter to you if you are using storages directly.  To access UntypedStorage directly, use tensor.untyped_storage() instead of tensor.storage()\n",
      "  points.storage()\n",
      "/home/fm-pc-lt-278/.local/lib/python3.10/site-packages/IPython/lib/pretty.py:778: UserWarning: TypedStorage is deprecated. It will be removed in the future and UntypedStorage will be the only storage class. This should only matter to you if you are using storages directly.  To access UntypedStorage directly, use tensor.untyped_storage() instead of tensor.storage()\n",
      "  output = repr(obj)\n",
      "/home/fm-pc-lt-278/.local/lib/python3.10/site-packages/torch/storage.py:645: UserWarning: TypedStorage is deprecated. It will be removed in the future and UntypedStorage will be the only storage class. This should only matter to you if you are using storages directly.  To access UntypedStorage directly, use tensor.untyped_storage() instead of tensor.storage()\n",
      "  return str(self)\n",
      "/home/fm-pc-lt-278/.local/lib/python3.10/site-packages/torch/storage.py:636: UserWarning: TypedStorage is deprecated. It will be removed in the future and UntypedStorage will be the only storage class. This should only matter to you if you are using storages directly.  To access UntypedStorage directly, use tensor.untyped_storage() instead of tensor.storage()\n",
      "  f'device={self.device}) of size {len(self)}]')\n",
      "/home/fm-pc-lt-278/.local/lib/python3.10/site-packages/torch/storage.py:637: UserWarning: TypedStorage is deprecated. It will be removed in the future and UntypedStorage will be the only storage class. This should only matter to you if you are using storages directly.  To access UntypedStorage directly, use tensor.untyped_storage() instead of tensor.storage()\n",
      "  if self.device.type == 'meta':\n",
      "/home/fm-pc-lt-278/.local/lib/python3.10/site-packages/torch/storage.py:640: UserWarning: TypedStorage is deprecated. It will be removed in the future and UntypedStorage will be the only storage class. This should only matter to you if you are using storages directly.  To access UntypedStorage directly, use tensor.untyped_storage() instead of tensor.storage()\n",
      "  data_str = ' ' + '\\n '.join(str(self[i]) for i in range(self.size()))\n"
     ]
    },
    {
     "data": {
      "text/plain": [
       " 4.0\n",
       " 1.0\n",
       " 5.0\n",
       " 3.0\n",
       " 2.0\n",
       " 1.0\n",
       "[torch.storage.TypedStorage(dtype=torch.float32, device=cpu) of size 6]"
      ]
     },
     "execution_count": 64,
     "metadata": {},
     "output_type": "execute_result"
    }
   ],
   "source": [
    "points.storage()"
   ]
  },
  {
   "cell_type": "code",
   "execution_count": 65,
   "id": "fdc72001",
   "metadata": {},
   "outputs": [
    {
     "name": "stderr",
     "output_type": "stream",
     "text": [
      "/tmp/ipykernel_100636/3231221392.py:1: UserWarning: TypedStorage is deprecated. It will be removed in the future and UntypedStorage will be the only storage class. This should only matter to you if you are using storages directly.  To access UntypedStorage directly, use tensor.untyped_storage() instead of tensor.storage()\n",
      "  points_storage = points.storage()\n"
     ]
    }
   ],
   "source": [
    "points_storage = points.storage()"
   ]
  },
  {
   "cell_type": "code",
   "execution_count": 66,
   "id": "f3c04736",
   "metadata": {},
   "outputs": [
    {
     "name": "stderr",
     "output_type": "stream",
     "text": [
      "/tmp/ipykernel_100636/4210428405.py:1: UserWarning: TypedStorage is deprecated. It will be removed in the future and UntypedStorage will be the only storage class. This should only matter to you if you are using storages directly.  To access UntypedStorage directly, use tensor.untyped_storage() instead of tensor.storage()\n",
      "  points_storage[0]\n"
     ]
    },
    {
     "data": {
      "text/plain": [
       "4.0"
      ]
     },
     "execution_count": 66,
     "metadata": {},
     "output_type": "execute_result"
    }
   ],
   "source": [
    "points_storage[0]"
   ]
  },
  {
   "cell_type": "code",
   "execution_count": 67,
   "id": "5e89691c",
   "metadata": {},
   "outputs": [
    {
     "name": "stderr",
     "output_type": "stream",
     "text": [
      "/tmp/ipykernel_100636/2426840409.py:1: UserWarning: TypedStorage is deprecated. It will be removed in the future and UntypedStorage will be the only storage class. This should only matter to you if you are using storages directly.  To access UntypedStorage directly, use tensor.untyped_storage() instead of tensor.storage()\n",
      "  points_storage[0] = 100.0\n"
     ]
    }
   ],
   "source": [
    "points_storage[0] = 100.0\n"
   ]
  },
  {
   "cell_type": "code",
   "execution_count": 68,
   "id": "9d38711c",
   "metadata": {},
   "outputs": [
    {
     "data": {
      "text/plain": [
       "tensor([[100.,   1.],\n",
       "        [  5.,   3.],\n",
       "        [  2.,   1.]])"
      ]
     },
     "execution_count": 68,
     "metadata": {},
     "output_type": "execute_result"
    }
   ],
   "source": [
    "points"
   ]
  },
  {
   "cell_type": "markdown",
   "id": "ccb23f8b",
   "metadata": {},
   "source": [
    "## Views of another tensor's storage"
   ]
  },
  {
   "cell_type": "code",
   "execution_count": 69,
   "id": "0369dcf1",
   "metadata": {},
   "outputs": [],
   "source": [
    "points = torch.tensor([[4.0, 1.0], [5.0, 3.0], [2.0, 1.0]])"
   ]
  },
  {
   "cell_type": "code",
   "execution_count": 70,
   "id": "72564a24",
   "metadata": {},
   "outputs": [
    {
     "data": {
      "text/plain": [
       "tensor([[4., 1.],\n",
       "        [5., 3.],\n",
       "        [2., 1.]])"
      ]
     },
     "execution_count": 70,
     "metadata": {},
     "output_type": "execute_result"
    }
   ],
   "source": [
    "points"
   ]
  },
  {
   "cell_type": "code",
   "execution_count": 71,
   "id": "557f1643",
   "metadata": {},
   "outputs": [],
   "source": [
    "second_point = points[1]"
   ]
  },
  {
   "cell_type": "code",
   "execution_count": 72,
   "id": "242061e6",
   "metadata": {},
   "outputs": [
    {
     "data": {
      "text/plain": [
       "tensor([5., 3.])"
      ]
     },
     "execution_count": 72,
     "metadata": {},
     "output_type": "execute_result"
    }
   ],
   "source": [
    "second_point"
   ]
  },
  {
   "cell_type": "code",
   "execution_count": 73,
   "id": "ad430137",
   "metadata": {},
   "outputs": [
    {
     "data": {
      "text/plain": [
       "2"
      ]
     },
     "execution_count": 73,
     "metadata": {},
     "output_type": "execute_result"
    }
   ],
   "source": [
    "second_point.storage_offset()"
   ]
  },
  {
   "cell_type": "code",
   "execution_count": 74,
   "id": "c1049196",
   "metadata": {},
   "outputs": [
    {
     "data": {
      "text/plain": [
       "torch.Size([2])"
      ]
     },
     "execution_count": 74,
     "metadata": {},
     "output_type": "execute_result"
    }
   ],
   "source": [
    "second_point.size()"
   ]
  },
  {
   "cell_type": "markdown",
   "id": "25e8e428",
   "metadata": {},
   "source": [
    "## Transposing without copying"
   ]
  },
  {
   "cell_type": "code",
   "execution_count": 80,
   "id": "5aef9e6c",
   "metadata": {},
   "outputs": [
    {
     "data": {
      "text/plain": [
       "tensor([[4., 1.],\n",
       "        [5., 3.],\n",
       "        [2., 1.]])"
      ]
     },
     "execution_count": 80,
     "metadata": {},
     "output_type": "execute_result"
    }
   ],
   "source": [
    "points = torch.tensor([[4.0, 1.0], [5.0, 3.0], [2.0, 1.0]])\n",
    "points"
   ]
  },
  {
   "cell_type": "code",
   "execution_count": 81,
   "id": "4dee7971",
   "metadata": {},
   "outputs": [
    {
     "data": {
      "text/plain": [
       "tensor([[4., 5., 2.],\n",
       "        [1., 3., 1.]])"
      ]
     },
     "execution_count": 81,
     "metadata": {},
     "output_type": "execute_result"
    }
   ],
   "source": [
    "points_t = points.t()\n",
    "points_t"
   ]
  },
  {
   "cell_type": "code",
   "execution_count": 83,
   "id": "ba7df87b",
   "metadata": {},
   "outputs": [
    {
     "data": {
      "text/plain": [
       "True"
      ]
     },
     "execution_count": 83,
     "metadata": {},
     "output_type": "execute_result"
    }
   ],
   "source": [
    "id(points.untyped_storage()) == id(points_t.untyped_storage())"
   ]
  },
  {
   "cell_type": "code",
   "execution_count": 85,
   "id": "b76fd0d1",
   "metadata": {},
   "outputs": [
    {
     "data": {
      "text/plain": [
       "(2, 1)"
      ]
     },
     "execution_count": 85,
     "metadata": {},
     "output_type": "execute_result"
    }
   ],
   "source": [
    "points.stride()"
   ]
  },
  {
   "cell_type": "code",
   "execution_count": 86,
   "id": "4c5991ff",
   "metadata": {},
   "outputs": [
    {
     "data": {
      "text/plain": [
       "(1, 2)"
      ]
     },
     "execution_count": 86,
     "metadata": {},
     "output_type": "execute_result"
    }
   ],
   "source": [
    "points_t.stride()"
   ]
  },
  {
   "cell_type": "markdown",
   "id": "67c50fca",
   "metadata": {},
   "source": [
    "## Transposing in Higher Dimensions"
   ]
  },
  {
   "cell_type": "code",
   "execution_count": 87,
   "id": "439d6cbc",
   "metadata": {},
   "outputs": [],
   "source": [
    "some_t = torch.ones(3,4,5)"
   ]
  },
  {
   "cell_type": "code",
   "execution_count": 88,
   "id": "485014d4",
   "metadata": {},
   "outputs": [],
   "source": [
    "transpose_t = some_t.transpose(0,2)"
   ]
  },
  {
   "cell_type": "code",
   "execution_count": 90,
   "id": "9c987ea1",
   "metadata": {},
   "outputs": [
    {
     "data": {
      "text/plain": [
       "torch.Size([3, 4, 5])"
      ]
     },
     "execution_count": 90,
     "metadata": {},
     "output_type": "execute_result"
    }
   ],
   "source": [
    "some_t.shape"
   ]
  },
  {
   "cell_type": "code",
   "execution_count": 91,
   "id": "6c4a07a1",
   "metadata": {},
   "outputs": [
    {
     "data": {
      "text/plain": [
       "torch.Size([5, 4, 3])"
      ]
     },
     "execution_count": 91,
     "metadata": {},
     "output_type": "execute_result"
    }
   ],
   "source": [
    "transpose_t.shape"
   ]
  },
  {
   "cell_type": "code",
   "execution_count": 92,
   "id": "7eebc8f3",
   "metadata": {},
   "outputs": [
    {
     "data": {
      "text/plain": [
       "(20, 5, 1)"
      ]
     },
     "execution_count": 92,
     "metadata": {},
     "output_type": "execute_result"
    }
   ],
   "source": [
    "some_t.stride()"
   ]
  },
  {
   "cell_type": "code",
   "execution_count": 93,
   "id": "adaccaba",
   "metadata": {},
   "outputs": [
    {
     "data": {
      "text/plain": [
       "(1, 5, 20)"
      ]
     },
     "execution_count": 93,
     "metadata": {},
     "output_type": "execute_result"
    }
   ],
   "source": [
    "transpose_t.stride()"
   ]
  },
  {
   "cell_type": "markdown",
   "id": "0c3c29fd",
   "metadata": {},
   "source": [
    "## Contiguous"
   ]
  },
  {
   "cell_type": "code",
   "execution_count": 94,
   "id": "77e136ae",
   "metadata": {},
   "outputs": [
    {
     "data": {
      "text/plain": [
       "True"
      ]
     },
     "execution_count": 94,
     "metadata": {},
     "output_type": "execute_result"
    }
   ],
   "source": [
    "points.is_contiguous()"
   ]
  },
  {
   "cell_type": "code",
   "execution_count": 95,
   "id": "b6ed7f46",
   "metadata": {},
   "outputs": [
    {
     "data": {
      "text/plain": [
       "False"
      ]
     },
     "execution_count": 95,
     "metadata": {},
     "output_type": "execute_result"
    }
   ],
   "source": [
    "points_t.is_contiguous()"
   ]
  },
  {
   "cell_type": "code",
   "execution_count": 96,
   "id": "520e9266",
   "metadata": {},
   "outputs": [
    {
     "data": {
      "text/plain": [
       "tensor([[4., 5., 2.],\n",
       "        [1., 3., 1.]])"
      ]
     },
     "execution_count": 96,
     "metadata": {},
     "output_type": "execute_result"
    }
   ],
   "source": [
    "points_t_cont = points_t.contiguous()\n",
    "points_t_cont"
   ]
  },
  {
   "cell_type": "code",
   "execution_count": 97,
   "id": "fdfded0c",
   "metadata": {},
   "outputs": [
    {
     "name": "stderr",
     "output_type": "stream",
     "text": [
      "/tmp/ipykernel_100636/1562932398.py:1: UserWarning: TypedStorage is deprecated. It will be removed in the future and UntypedStorage will be the only storage class. This should only matter to you if you are using storages directly.  To access UntypedStorage directly, use tensor.untyped_storage() instead of tensor.storage()\n",
      "  points_t_cont.storage()\n",
      "/home/fm-pc-lt-278/.local/lib/python3.10/site-packages/IPython/lib/pretty.py:778: UserWarning: TypedStorage is deprecated. It will be removed in the future and UntypedStorage will be the only storage class. This should only matter to you if you are using storages directly.  To access UntypedStorage directly, use tensor.untyped_storage() instead of tensor.storage()\n",
      "  output = repr(obj)\n",
      "/home/fm-pc-lt-278/.local/lib/python3.10/site-packages/torch/storage.py:645: UserWarning: TypedStorage is deprecated. It will be removed in the future and UntypedStorage will be the only storage class. This should only matter to you if you are using storages directly.  To access UntypedStorage directly, use tensor.untyped_storage() instead of tensor.storage()\n",
      "  return str(self)\n",
      "/home/fm-pc-lt-278/.local/lib/python3.10/site-packages/torch/storage.py:636: UserWarning: TypedStorage is deprecated. It will be removed in the future and UntypedStorage will be the only storage class. This should only matter to you if you are using storages directly.  To access UntypedStorage directly, use tensor.untyped_storage() instead of tensor.storage()\n",
      "  f'device={self.device}) of size {len(self)}]')\n",
      "/home/fm-pc-lt-278/.local/lib/python3.10/site-packages/torch/storage.py:637: UserWarning: TypedStorage is deprecated. It will be removed in the future and UntypedStorage will be the only storage class. This should only matter to you if you are using storages directly.  To access UntypedStorage directly, use tensor.untyped_storage() instead of tensor.storage()\n",
      "  if self.device.type == 'meta':\n",
      "/home/fm-pc-lt-278/.local/lib/python3.10/site-packages/torch/storage.py:640: UserWarning: TypedStorage is deprecated. It will be removed in the future and UntypedStorage will be the only storage class. This should only matter to you if you are using storages directly.  To access UntypedStorage directly, use tensor.untyped_storage() instead of tensor.storage()\n",
      "  data_str = ' ' + '\\n '.join(str(self[i]) for i in range(self.size()))\n"
     ]
    },
    {
     "data": {
      "text/plain": [
       " 4.0\n",
       " 5.0\n",
       " 2.0\n",
       " 1.0\n",
       " 3.0\n",
       " 1.0\n",
       "[torch.storage.TypedStorage(dtype=torch.float32, device=cpu) of size 6]"
      ]
     },
     "execution_count": 97,
     "metadata": {},
     "output_type": "execute_result"
    }
   ],
   "source": [
    "points_t_cont.storage()"
   ]
  },
  {
   "cell_type": "code",
   "execution_count": 98,
   "id": "c1581db1",
   "metadata": {},
   "outputs": [
    {
     "data": {
      "text/plain": [
       "(3, 1)"
      ]
     },
     "execution_count": 98,
     "metadata": {},
     "output_type": "execute_result"
    }
   ],
   "source": [
    "points_t_cont.stride()"
   ]
  },
  {
   "cell_type": "markdown",
   "id": "80f0d757",
   "metadata": {},
   "source": [
    "## View"
   ]
  },
  {
   "cell_type": "code",
   "execution_count": 99,
   "id": "69f56da8",
   "metadata": {},
   "outputs": [],
   "source": [
    "x = torch.randn(4,4)"
   ]
  },
  {
   "cell_type": "code",
   "execution_count": 100,
   "id": "c33fb4c2",
   "metadata": {},
   "outputs": [
    {
     "data": {
      "text/plain": [
       "tensor([[-0.6393,  0.1223, -2.0079, -0.5731],\n",
       "        [-0.4355,  0.7205,  0.0435, -0.4956],\n",
       "        [-1.5550, -0.8268, -0.8178, -0.3450],\n",
       "        [-1.1393,  1.1105, -1.8452,  0.3907]])"
      ]
     },
     "execution_count": 100,
     "metadata": {},
     "output_type": "execute_result"
    }
   ],
   "source": [
    "x"
   ]
  },
  {
   "cell_type": "code",
   "execution_count": 102,
   "id": "79fc5abb",
   "metadata": {},
   "outputs": [
    {
     "data": {
      "text/plain": [
       "torch.Size([4, 4])"
      ]
     },
     "execution_count": 102,
     "metadata": {},
     "output_type": "execute_result"
    }
   ],
   "source": [
    "x.size()"
   ]
  },
  {
   "cell_type": "code",
   "execution_count": 103,
   "id": "cf77b858",
   "metadata": {},
   "outputs": [
    {
     "data": {
      "text/plain": [
       "torch.Size([4, 4])"
      ]
     },
     "execution_count": 103,
     "metadata": {},
     "output_type": "execute_result"
    }
   ],
   "source": [
    "x.shape"
   ]
  },
  {
   "cell_type": "code",
   "execution_count": 104,
   "id": "9cc8f047",
   "metadata": {},
   "outputs": [
    {
     "data": {
      "text/plain": [
       "tensor([-0.6393,  0.1223, -2.0079, -0.5731, -0.4355,  0.7205,  0.0435, -0.4956,\n",
       "        -1.5550, -0.8268, -0.8178, -0.3450, -1.1393,  1.1105, -1.8452,  0.3907])"
      ]
     },
     "execution_count": 104,
     "metadata": {},
     "output_type": "execute_result"
    }
   ],
   "source": [
    "x.view(16)"
   ]
  },
  {
   "cell_type": "code",
   "execution_count": 105,
   "id": "b5e8da90",
   "metadata": {},
   "outputs": [
    {
     "data": {
      "text/plain": [
       "tensor([[-0.6393,  0.1223, -2.0079, -0.5731, -0.4355,  0.7205,  0.0435, -0.4956],\n",
       "        [-1.5550, -0.8268, -0.8178, -0.3450, -1.1393,  1.1105, -1.8452,  0.3907]])"
      ]
     },
     "execution_count": 105,
     "metadata": {},
     "output_type": "execute_result"
    }
   ],
   "source": [
    "x.view(2,8)"
   ]
  },
  {
   "cell_type": "markdown",
   "id": "e77bfdc3",
   "metadata": {},
   "source": [
    "## Managing a tensor's device attribute"
   ]
  },
  {
   "cell_type": "code",
   "execution_count": 106,
   "id": "ee4edfb0",
   "metadata": {},
   "outputs": [
    {
     "data": {
      "text/plain": [
       "tensor([[4., 1.],\n",
       "        [5., 3.],\n",
       "        [2., 1.]], device='cuda:0')"
      ]
     },
     "execution_count": 106,
     "metadata": {},
     "output_type": "execute_result"
    }
   ],
   "source": [
    "points_gpu = torch.tensor([[4.0, 1.0], [5.0, 3.0], [2.0, 1.0]], device='cuda')\n",
    "points_gpu"
   ]
  },
  {
   "cell_type": "code",
   "execution_count": 107,
   "id": "4884f1f1",
   "metadata": {},
   "outputs": [],
   "source": [
    "points_gpu = points.to(device='cuda')"
   ]
  },
  {
   "cell_type": "code",
   "execution_count": 108,
   "id": "bb4f4ca1",
   "metadata": {},
   "outputs": [
    {
     "data": {
      "text/plain": [
       "tensor([[4., 1.],\n",
       "        [5., 3.],\n",
       "        [2., 1.]], device='cuda:0')"
      ]
     },
     "execution_count": 108,
     "metadata": {},
     "output_type": "execute_result"
    }
   ],
   "source": [
    "points_gpu"
   ]
  },
  {
   "cell_type": "code",
   "execution_count": null,
   "id": "32325dfc",
   "metadata": {},
   "outputs": [],
   "source": []
  }
 ],
 "metadata": {
  "kernelspec": {
   "display_name": "Python 3 (ipykernel)",
   "language": "python",
   "name": "python3"
  },
  "language_info": {
   "codemirror_mode": {
    "name": "ipython",
    "version": 3
   },
   "file_extension": ".py",
   "mimetype": "text/x-python",
   "name": "python",
   "nbconvert_exporter": "python",
   "pygments_lexer": "ipython3",
   "version": "3.10.6"
  }
 },
 "nbformat": 4,
 "nbformat_minor": 5
}
